{
 "cells": [
  {
   "cell_type": "markdown",
   "metadata": {},
   "source": [
    "#Setup"
   ]
  },
  {
   "cell_type": "code",
   "execution_count": 1,
   "metadata": {
    "collapsed": true
   },
   "outputs": [],
   "source": [
    "import pandas as pd\n",
    "import numpy as np\n",
    "from pulp import *\n",
    "from openpyxl import load_workbook"
   ]
  },
  {
   "cell_type": "markdown",
   "metadata": {},
   "source": [
    "#Data Import"
   ]
  },
  {
   "cell_type": "code",
   "execution_count": 17,
   "metadata": {
    "collapsed": false
   },
   "outputs": [],
   "source": [
    "amCourses = pd.read_excel(\"simple_sample.xlsx\", sheetname=\"AMCourses\")\n",
    "pmCourses = pd.read_excel(\"simple_sample.xlsx\", sheetname=\"PMCourses\")\n",
    "rooms = pd.read_excel(\"simple_sample.xlsx\", sheetname=\"Rooms\")\n",
    "courses = pd.read_excel(\"simple_sample.xlsx\", sheetname=\"Courses\")\n",
    "amPrefs = pd.read_excel(\"simple_sample.xlsx\", sheetname=\"AMPreferences\")\n",
    "pmPrefs = pd.read_excel(\"simple_sample.xlsx\", sheetname=\"PMPreferences\")"
   ]
  },
  {
   "cell_type": "code",
   "execution_count": 14,
   "metadata": {
    "collapsed": true
   },
   "outputs": [],
   "source": [
    "locationPrefs = pd.read_excel(\"keti.xlsx\", sheetname=\"LocationSetRankingNoZeros\")\n",
    "locationHotels = pd.read_excel(\"keti.xlsx\", sheetname=\"Hotel Capacity\")"
   ]
  },
  {
   "cell_type": "markdown",
   "metadata": {},
   "source": [
    "#Data Manipulation Functions"
   ]
  },
  {
   "cell_type": "code",
   "execution_count": 15,
   "metadata": {
    "collapsed": false
   },
   "outputs": [],
   "source": [
    "def df_to_dict_index(df):\n",
    "    tmp = df.to_dict(orient = \"records\")\n",
    "    return {df.index[i]: tmp[i] for i in range(len(df.index))}\n",
    "\n",
    "def df_to_dict_values(df):\n",
    "    d = {}\n",
    "    for val in {v[i] for v in df.values for i in range(len(v))}:\n",
    "            for ind in df.index:\n",
    "                for col in df.columns:\n",
    "                    if df[col][ind] == val:\n",
    "                        if val in d.keys():\n",
    "                            d[val].append(ind)\n",
    "                        else:\n",
    "                            d[val] = [ind]\n",
    "    return d\n",
    "\n",
    "def dict_to_df_values(d):\n",
    "    max_len = max([len(d[k]) for k in d.keys()])\n",
    "    for key in d.keys():\n",
    "        for i in range(max_len - len(d[key])):\n",
    "            d[key].append(None)\n",
    "    return pd.DataFrame(d)\n",
    "\n",
    "def series_to_dict_listvalues(series):\n",
    "    d = {}\n",
    "    for val in {v[i] for v in series.values for i in range(len(v))}:\n",
    "            for ind in series.index:\n",
    "                if val in series[ind]:\n",
    "                    if val in d.keys():\n",
    "                        d[val].append(ind)\n",
    "                    else:\n",
    "                        d[val] = [ind]\n",
    "    return d"
   ]
  },
  {
   "cell_type": "markdown",
   "metadata": {},
   "source": [
    "#Optimization Functions"
   ]
  },
  {
   "cell_type": "code",
   "execution_count": 19,
   "metadata": {
    "collapsed": false
   },
   "outputs": [],
   "source": [
    "def apply_lp(Preferences, Students, Courses, Rooms, CourseCapacities, RoomCapacities):\n",
    "    \n",
    "    assignments = [(i,j) for i in Students for j in Courses]\n",
    "    course_vars = LpVariable.dicts(\"Asssignment\",assignments,0,1,LpInteger)\n",
    "\n",
    "    # Create the 'prob' variable to contain the problem data \n",
    "    prob = LpProblem(\"Test Problem\",LpMinimize)\n",
    "    # The objective function is added to 'prob' first \n",
    "    prob += lpSum([lpSum([Preferences[i][j]*course_vars[i,j] for j in\n",
    "    Courses]) for i in Students]), \"Total Sum of Preferences for Students\"\n",
    "\n",
    "    # Constraints are added to 'prob'\n",
    "\n",
    "    # Every student must be assigned a course\n",
    "    for student in Students:\n",
    "        prob += lpSum([course_vars[student, i] for i in Courses]) == 1,student + \"_Assigned\"\n",
    "\n",
    "    # Course capacity must not be exceeded\n",
    "    for course in Courses:\n",
    "        prob += lpSum([course_vars[i,course]] for i in Students) <= CourseCapacities[course],course + \"_CourseCapacity\"\n",
    "\n",
    "    # The problem data is written to an .lp file \n",
    "    prob.writeLP(\"Test.lp\")\n",
    "    # The problem is solved using PuLP's choice of Solver \n",
    "    prob.solve()\n",
    "    # The status of the solution is printed to the screen \n",
    "    print (\"Status:\", LpStatus[prob.status])\n",
    "    # Each of the variables is printed with its resolved optimum value\n",
    "    for v in prob.variables():    \n",
    "        print (v.name, \"=\", v.varValue)\n",
    "    # The optimised objective function value is printed to the screen    \n",
    "    print ( \"Courses: Total Sum of Assignments = \", value(prob.objective), \"\\n\")\n",
    "    return prob.objective, prob.variables()"
   ]
  },
  {
   "cell_type": "code",
   "execution_count": 19,
   "metadata": {
    "collapsed": true
   },
   "outputs": [],
   "source": [
    "def apply_location_lp(Preferences, Students, Locations, HotelCapacities):\n",
    "    \n",
    "    assignments = [(i,j) for i in Students for j in Locations]\n",
    "    location_vars = LpVariable.dicts(\"Asssignment\",assignments,0,1,LpInteger)\n",
    "\n",
    "    # Create the 'prob' variable to contain the problem data \n",
    "    prob = LpProblem(\"Location Optimization Problem\",LpMinimize)\n",
    "    # The objective function is added to 'prob' first \n",
    "    prob += lpSum([lpSum([Preferences[i][j]*location_vars[i,j] for j in\n",
    "    Locations]) for i in Students]), \"Total Sum of Preferences for Students\"\n",
    "\n",
    "    # Constraints are added to 'prob'\n",
    "\n",
    "    # Every student must be assigned at least 2 locations\n",
    "    for student in Students:\n",
    "        prob += lpSum([location_vars[student, i] for i in Locations]) >= 2,str(student) + \"_Assigned\"\n",
    "\n",
    "    # Hotel capacity must not be exceeded\n",
    "    for location in Locations:\n",
    "        prob += lpSum([location_vars[i,location]] for i in Students) <= HotelCapacities[location],location + \"_HotelCapacity\"\n",
    "\n",
    "    # The problem data is written to an .lp file \n",
    "    prob.writeLP(\"Location.lp\")\n",
    "    # The problem is solved using PuLP's choice of Solver \n",
    "    prob.solve()\n",
    "    # The status of the solution is printed to the screen \n",
    "    print (\"Status:\", LpStatus[prob.status])\n",
    "    # Each of the variables is printed with its resolved optimum value\n",
    "    for v in prob.variables():    \n",
    "        print (v.name, \"=\", v.varValue)\n",
    "    # The optimised objective function value is printed to the screen    \n",
    "    print ( \"Courses: Total Sum of Assignments = \", value(prob.objective), \"\\n\")\n",
    "    return prob.objective, prob.variables()"
   ]
  },
  {
   "cell_type": "code",
   "execution_count": 20,
   "metadata": {
    "collapsed": true
   },
   "outputs": [],
   "source": [
    "def run_optimization(dfPrefs, dfCourses, dfRooms):\n",
    "    Preferences = df_to_dict_index(dfPrefs)\n",
    "    Students = set(dfPrefs.index)\n",
    "    Courses = set(dfCourses.index)\n",
    "    Rooms = dfCourses['Room'].to_dict()\n",
    "    CourseCapacities = dfCourses['Capacity'].to_dict()\n",
    "    RoomCapacities = dfRooms['Capacity'].to_dict()\n",
    "    return apply_lp(Preferences, Students, Courses, Rooms, CourseCapacities, RoomCapacities)"
   ]
  },
  {
   "cell_type": "code",
   "execution_count": 20,
   "metadata": {
    "collapsed": false
   },
   "outputs": [],
   "source": [
    "def run_location_optimization(dfLocationPrefs, dfLocations):\n",
    "    LocationPreferences = df_to_dict_index(dfLocationPrefs)\n",
    "    Students = set(dfLocationPrefs.index)\n",
    "    Locations = set(dfLocations.index)\n",
    "    #Rooms = dfCourses['Room'].to_dict()\n",
    "    HotelCapacities = dfLocations['Capacity'].to_dict()\n",
    "    #RoomCapacities = dfRooms['Capacity'].to_dict()\n",
    "    return apply_location_lp(LocationPreferences, Students, Locations, HotelCapacities)\n",
    "\n"
   ]
  },
  {
   "cell_type": "markdown",
   "metadata": {},
   "source": [
    "#Optimization Execution"
   ]
  },
  {
   "cell_type": "code",
   "execution_count": 21,
   "metadata": {
    "collapsed": false
   },
   "outputs": [
    {
     "name": "stdout",
     "output_type": "stream",
     "text": [
      "Status: Optimal\n",
      "Asssignment_('Student1',_'Course1') = 1.0\n",
      "Asssignment_('Student1',_'Course2') = 0.0\n",
      "Asssignment_('Student1',_'Course3') = 0.0\n",
      "Asssignment_('Student10',_'Course1') = 0.0\n",
      "Asssignment_('Student10',_'Course2') = 1.0\n",
      "Asssignment_('Student10',_'Course3') = 0.0\n",
      "Asssignment_('Student11',_'Course1') = 1.0\n",
      "Asssignment_('Student11',_'Course2') = 0.0\n",
      "Asssignment_('Student11',_'Course3') = 0.0\n",
      "Asssignment_('Student12',_'Course1') = 0.0\n",
      "Asssignment_('Student12',_'Course2') = 1.0\n",
      "Asssignment_('Student12',_'Course3') = 0.0\n",
      "Asssignment_('Student13',_'Course1') = 0.0\n",
      "Asssignment_('Student13',_'Course2') = 1.0\n",
      "Asssignment_('Student13',_'Course3') = 0.0\n",
      "Asssignment_('Student14',_'Course1') = 1.0\n",
      "Asssignment_('Student14',_'Course2') = 0.0\n",
      "Asssignment_('Student14',_'Course3') = 0.0\n",
      "Asssignment_('Student15',_'Course1') = 0.0\n",
      "Asssignment_('Student15',_'Course2') = 0.0\n",
      "Asssignment_('Student15',_'Course3') = 1.0\n",
      "Asssignment_('Student16',_'Course1') = 0.0\n",
      "Asssignment_('Student16',_'Course2') = 0.0\n",
      "Asssignment_('Student16',_'Course3') = 1.0\n",
      "Asssignment_('Student2',_'Course1') = 1.0\n",
      "Asssignment_('Student2',_'Course2') = 0.0\n",
      "Asssignment_('Student2',_'Course3') = 0.0\n",
      "Asssignment_('Student3',_'Course1') = 0.0\n",
      "Asssignment_('Student3',_'Course2') = 0.0\n",
      "Asssignment_('Student3',_'Course3') = 1.0\n",
      "Asssignment_('Student4',_'Course1') = 0.0\n",
      "Asssignment_('Student4',_'Course2') = 0.0\n",
      "Asssignment_('Student4',_'Course3') = 1.0\n",
      "Asssignment_('Student5',_'Course1') = 1.0\n",
      "Asssignment_('Student5',_'Course2') = 0.0\n",
      "Asssignment_('Student5',_'Course3') = 0.0\n",
      "Asssignment_('Student6',_'Course1') = 0.0\n",
      "Asssignment_('Student6',_'Course2') = 0.0\n",
      "Asssignment_('Student6',_'Course3') = 1.0\n",
      "Asssignment_('Student7',_'Course1') = 1.0\n",
      "Asssignment_('Student7',_'Course2') = 0.0\n",
      "Asssignment_('Student7',_'Course3') = 0.0\n",
      "Asssignment_('Student8',_'Course1') = 0.0\n",
      "Asssignment_('Student8',_'Course2') = 1.0\n",
      "Asssignment_('Student8',_'Course3') = 0.0\n",
      "Asssignment_('Student9',_'Course1') = 0.0\n",
      "Asssignment_('Student9',_'Course2') = 0.0\n",
      "Asssignment_('Student9',_'Course3') = 1.0\n",
      "Courses: Total Sum of Assignments =  18.0 \n",
      "\n",
      "Status: Optimal\n",
      "Asssignment_('Student1',_'Course4') = 0.0\n",
      "Asssignment_('Student1',_'Course5') = 1.0\n",
      "Asssignment_('Student1',_'Course6') = 0.0\n",
      "Asssignment_('Student10',_'Course4') = 0.0\n",
      "Asssignment_('Student10',_'Course5') = 1.0\n",
      "Asssignment_('Student10',_'Course6') = 0.0\n",
      "Asssignment_('Student11',_'Course4') = 0.0\n",
      "Asssignment_('Student11',_'Course5') = 0.0\n",
      "Asssignment_('Student11',_'Course6') = 1.0\n",
      "Asssignment_('Student12',_'Course4') = 0.0\n",
      "Asssignment_('Student12',_'Course5') = 0.0\n",
      "Asssignment_('Student12',_'Course6') = 1.0\n",
      "Asssignment_('Student13',_'Course4') = 1.0\n",
      "Asssignment_('Student13',_'Course5') = 0.0\n",
      "Asssignment_('Student13',_'Course6') = 0.0\n",
      "Asssignment_('Student14',_'Course4') = 1.0\n",
      "Asssignment_('Student14',_'Course5') = 0.0\n",
      "Asssignment_('Student14',_'Course6') = 0.0\n",
      "Asssignment_('Student15',_'Course4') = 0.0\n",
      "Asssignment_('Student15',_'Course5') = 0.0\n",
      "Asssignment_('Student15',_'Course6') = 1.0\n",
      "Asssignment_('Student16',_'Course4') = 0.0\n",
      "Asssignment_('Student16',_'Course5') = 1.0\n",
      "Asssignment_('Student16',_'Course6') = 0.0\n",
      "Asssignment_('Student2',_'Course4') = 0.0\n",
      "Asssignment_('Student2',_'Course5') = 1.0\n",
      "Asssignment_('Student2',_'Course6') = 0.0\n",
      "Asssignment_('Student3',_'Course4') = 0.0\n",
      "Asssignment_('Student3',_'Course5') = 1.0\n",
      "Asssignment_('Student3',_'Course6') = 0.0\n",
      "Asssignment_('Student4',_'Course4') = 1.0\n",
      "Asssignment_('Student4',_'Course5') = 0.0\n",
      "Asssignment_('Student4',_'Course6') = 0.0\n",
      "Asssignment_('Student5',_'Course4') = 1.0\n",
      "Asssignment_('Student5',_'Course5') = 0.0\n",
      "Asssignment_('Student5',_'Course6') = 0.0\n",
      "Asssignment_('Student6',_'Course4') = 0.0\n",
      "Asssignment_('Student6',_'Course5') = 1.0\n",
      "Asssignment_('Student6',_'Course6') = 0.0\n",
      "Asssignment_('Student7',_'Course4') = 0.0\n",
      "Asssignment_('Student7',_'Course5') = 0.0\n",
      "Asssignment_('Student7',_'Course6') = 1.0\n",
      "Asssignment_('Student8',_'Course4') = 0.0\n",
      "Asssignment_('Student8',_'Course5') = 0.0\n",
      "Asssignment_('Student8',_'Course6') = 1.0\n",
      "Asssignment_('Student9',_'Course4') = 0.0\n",
      "Asssignment_('Student9',_'Course5') = 1.0\n",
      "Asssignment_('Student9',_'Course6') = 0.0\n",
      "Courses: Total Sum of Assignments =  16.0 \n",
      "\n"
     ]
    }
   ],
   "source": [
    "_, amOutput = run_optimization(amPrefs, amCourses, rooms)\n",
    "_, pmOutput = run_optimization(pmPrefs, pmCourses, rooms)"
   ]
  },
  {
   "cell_type": "code",
   "execution_count": 21,
   "metadata": {
    "collapsed": false
   },
   "outputs": [
    {
     "name": "stdout",
     "output_type": "stream",
     "text": [
      "{1: {'EW': 3, 'MW': 4, 'HK': 1000, 'MA': 2, 'KR1': 1000, 'EA': 1, 'KS': 1000}, 2: {'EW': 1, 'MW': 1000, 'HK': 1000, 'MA': 1000, 'KR1': 1000, 'EA': 2, 'KS': 1000}, 3: {'EW': 1000, 'MW': 2, 'HK': 1000, 'MA': 1, 'KR1': 1000, 'EA': 1000, 'KS': 1000}, 4: {'EW': 1000, 'MW': 1000, 'HK': 2, 'MA': 1000, 'KR1': 1000, 'EA': 1000, 'KS': 1}, 5: {'EW': 1000, 'MW': 1000, 'HK': 1000, 'MA': 1000, 'KR1': 2, 'EA': 1000, 'KS': 1}, 6: {'EW': 1000, 'MW': 1, 'HK': 2, 'MA': 1000, 'KR1': 1000, 'EA': 1000, 'KS': 1000}, 7: {'EW': 2, 'MW': 1000, 'HK': 1000, 'MA': 1, 'KR1': 1000, 'EA': 1000, 'KS': 1000}, 8: {'EW': 3, 'MW': 1000, 'HK': 1000, 'MA': 2, 'KR1': 1000, 'EA': 1, 'KS': 1000}, 9: {'EW': 2, 'MW': 1, 'HK': 1000, 'MA': 1000, 'KR1': 1000, 'EA': 1000, 'KS': 1000}, 10: {'EW': 1000, 'MW': 4, 'HK': 3, 'MA': 1000, 'KR1': 1, 'EA': 1000, 'KS': 2}, 11: {'EW': 1, 'MW': 2, 'HK': 1000, 'MA': 1000, 'KR1': 1000, 'EA': 1000, 'KS': 1000}, 12: {'EW': 1000, 'MW': 2, 'HK': 1000, 'MA': 1, 'KR1': 1000, 'EA': 1000, 'KS': 1000}, 13: {'EW': 1000, 'MW': 1000, 'HK': 1000, 'MA': 1, 'KR1': 1000, 'EA': 2, 'KS': 1000}, 14: {'EW': 2, 'MW': 1, 'HK': 1000, 'MA': 1000, 'KR1': 1000, 'EA': 1000, 'KS': 1000}, 15: {'EW': 1000, 'MW': 2, 'HK': 1, 'MA': 1000, 'KR1': 1000, 'EA': 1000, 'KS': 1000}, 16: {'EW': 1000, 'MW': 1000, 'HK': 2, 'MA': 1000, 'KR1': 1000, 'EA': 1000, 'KS': 1}, 17: {'EW': 1000, 'MW': 1000, 'HK': 1000, 'MA': 1000, 'KR1': 1, 'EA': 1000, 'KS': 2}, 18: {'EW': 1000, 'MW': 2, 'HK': 1, 'MA': 3, 'KR1': 1000, 'EA': 1000, 'KS': 1000}, 19: {'EW': 3, 'MW': 2, 'HK': 1, 'MA': 1000, 'KR1': 1000, 'EA': 4, 'KS': 1000}, 20: {'EW': 1000, 'MW': 1, 'HK': 2, 'MA': 1000, 'KR1': 3, 'EA': 1000, 'KS': 4}}\n",
      "Status: Optimal\n",
      "Asssignment_(1,_'EA') = 1.0\n",
      "Asssignment_(1,_'EW') = 0.0\n",
      "Asssignment_(1,_'HK') = 0.0\n",
      "Asssignment_(1,_'KR1') = 0.0\n",
      "Asssignment_(1,_'KS') = 0.0\n",
      "Asssignment_(1,_'MA') = 1.0\n",
      "Asssignment_(1,_'MW') = 0.0\n",
      "Asssignment_(10,_'EA') = 0.0\n",
      "Asssignment_(10,_'EW') = 0.0\n",
      "Asssignment_(10,_'HK') = 0.0\n",
      "Asssignment_(10,_'KR1') = 1.0\n",
      "Asssignment_(10,_'KS') = 1.0\n",
      "Asssignment_(10,_'MA') = 0.0\n",
      "Asssignment_(10,_'MW') = 0.0\n",
      "Asssignment_(11,_'EA') = 0.0\n",
      "Asssignment_(11,_'EW') = 1.0\n",
      "Asssignment_(11,_'HK') = 0.0\n",
      "Asssignment_(11,_'KR1') = 0.0\n",
      "Asssignment_(11,_'KS') = 0.0\n",
      "Asssignment_(11,_'MA') = 0.0\n",
      "Asssignment_(11,_'MW') = 1.0\n",
      "Asssignment_(12,_'EA') = 0.0\n",
      "Asssignment_(12,_'EW') = 0.0\n",
      "Asssignment_(12,_'HK') = 0.0\n",
      "Asssignment_(12,_'KR1') = 0.0\n",
      "Asssignment_(12,_'KS') = 0.0\n",
      "Asssignment_(12,_'MA') = 1.0\n",
      "Asssignment_(12,_'MW') = 1.0\n",
      "Asssignment_(13,_'EA') = 1.0\n",
      "Asssignment_(13,_'EW') = 0.0\n",
      "Asssignment_(13,_'HK') = 0.0\n",
      "Asssignment_(13,_'KR1') = 0.0\n",
      "Asssignment_(13,_'KS') = 0.0\n",
      "Asssignment_(13,_'MA') = 1.0\n",
      "Asssignment_(13,_'MW') = 0.0\n",
      "Asssignment_(14,_'EA') = 0.0\n",
      "Asssignment_(14,_'EW') = 1.0\n",
      "Asssignment_(14,_'HK') = 0.0\n",
      "Asssignment_(14,_'KR1') = 0.0\n",
      "Asssignment_(14,_'KS') = 0.0\n",
      "Asssignment_(14,_'MA') = 0.0\n",
      "Asssignment_(14,_'MW') = 1.0\n",
      "Asssignment_(15,_'EA') = 0.0\n",
      "Asssignment_(15,_'EW') = 0.0\n",
      "Asssignment_(15,_'HK') = 1.0\n",
      "Asssignment_(15,_'KR1') = 0.0\n",
      "Asssignment_(15,_'KS') = 0.0\n",
      "Asssignment_(15,_'MA') = 0.0\n",
      "Asssignment_(15,_'MW') = 1.0\n",
      "Asssignment_(16,_'EA') = 0.0\n",
      "Asssignment_(16,_'EW') = 0.0\n",
      "Asssignment_(16,_'HK') = 1.0\n",
      "Asssignment_(16,_'KR1') = 0.0\n",
      "Asssignment_(16,_'KS') = 1.0\n",
      "Asssignment_(16,_'MA') = 0.0\n",
      "Asssignment_(16,_'MW') = 0.0\n",
      "Asssignment_(17,_'EA') = 0.0\n",
      "Asssignment_(17,_'EW') = 0.0\n",
      "Asssignment_(17,_'HK') = 0.0\n",
      "Asssignment_(17,_'KR1') = 1.0\n",
      "Asssignment_(17,_'KS') = 1.0\n",
      "Asssignment_(17,_'MA') = 0.0\n",
      "Asssignment_(17,_'MW') = 0.0\n",
      "Asssignment_(18,_'EA') = 0.0\n",
      "Asssignment_(18,_'EW') = 0.0\n",
      "Asssignment_(18,_'HK') = 1.0\n",
      "Asssignment_(18,_'KR1') = 0.0\n",
      "Asssignment_(18,_'KS') = 0.0\n",
      "Asssignment_(18,_'MA') = 0.0\n",
      "Asssignment_(18,_'MW') = 1.0\n",
      "Asssignment_(19,_'EA') = 0.0\n",
      "Asssignment_(19,_'EW') = 0.0\n",
      "Asssignment_(19,_'HK') = 1.0\n",
      "Asssignment_(19,_'KR1') = 0.0\n",
      "Asssignment_(19,_'KS') = 0.0\n",
      "Asssignment_(19,_'MA') = 0.0\n",
      "Asssignment_(19,_'MW') = 1.0\n",
      "Asssignment_(2,_'EA') = 1.0\n",
      "Asssignment_(2,_'EW') = 1.0\n",
      "Asssignment_(2,_'HK') = 0.0\n",
      "Asssignment_(2,_'KR1') = 0.0\n",
      "Asssignment_(2,_'KS') = 0.0\n",
      "Asssignment_(2,_'MA') = 0.0\n",
      "Asssignment_(2,_'MW') = 0.0\n",
      "Asssignment_(20,_'EA') = 0.0\n",
      "Asssignment_(20,_'EW') = 0.0\n",
      "Asssignment_(20,_'HK') = 1.0\n",
      "Asssignment_(20,_'KR1') = 0.0\n",
      "Asssignment_(20,_'KS') = 0.0\n",
      "Asssignment_(20,_'MA') = 0.0\n",
      "Asssignment_(20,_'MW') = 1.0\n",
      "Asssignment_(3,_'EA') = 0.0\n",
      "Asssignment_(3,_'EW') = 0.0\n",
      "Asssignment_(3,_'HK') = 0.0\n",
      "Asssignment_(3,_'KR1') = 0.0\n",
      "Asssignment_(3,_'KS') = 0.0\n",
      "Asssignment_(3,_'MA') = 1.0\n",
      "Asssignment_(3,_'MW') = 1.0\n",
      "Asssignment_(4,_'EA') = 0.0\n",
      "Asssignment_(4,_'EW') = 0.0\n",
      "Asssignment_(4,_'HK') = 1.0\n",
      "Asssignment_(4,_'KR1') = 0.0\n",
      "Asssignment_(4,_'KS') = 1.0\n",
      "Asssignment_(4,_'MA') = 0.0\n",
      "Asssignment_(4,_'MW') = 0.0\n",
      "Asssignment_(5,_'EA') = 0.0\n",
      "Asssignment_(5,_'EW') = 0.0\n",
      "Asssignment_(5,_'HK') = 0.0\n",
      "Asssignment_(5,_'KR1') = 1.0\n",
      "Asssignment_(5,_'KS') = 1.0\n",
      "Asssignment_(5,_'MA') = 0.0\n",
      "Asssignment_(5,_'MW') = 0.0\n",
      "Asssignment_(6,_'EA') = 0.0\n",
      "Asssignment_(6,_'EW') = 0.0\n",
      "Asssignment_(6,_'HK') = 1.0\n",
      "Asssignment_(6,_'KR1') = 0.0\n",
      "Asssignment_(6,_'KS') = 0.0\n",
      "Asssignment_(6,_'MA') = 0.0\n",
      "Asssignment_(6,_'MW') = 1.0\n",
      "Asssignment_(7,_'EA') = 0.0\n",
      "Asssignment_(7,_'EW') = 1.0\n",
      "Asssignment_(7,_'HK') = 0.0\n",
      "Asssignment_(7,_'KR1') = 0.0\n",
      "Asssignment_(7,_'KS') = 0.0\n",
      "Asssignment_(7,_'MA') = 1.0\n",
      "Asssignment_(7,_'MW') = 0.0\n",
      "Asssignment_(8,_'EA') = 1.0\n",
      "Asssignment_(8,_'EW') = 0.0\n",
      "Asssignment_(8,_'HK') = 0.0\n",
      "Asssignment_(8,_'KR1') = 0.0\n",
      "Asssignment_(8,_'KS') = 0.0\n",
      "Asssignment_(8,_'MA') = 1.0\n",
      "Asssignment_(8,_'MW') = 0.0\n",
      "Asssignment_(9,_'EA') = 0.0\n",
      "Asssignment_(9,_'EW') = 1.0\n",
      "Asssignment_(9,_'HK') = 0.0\n",
      "Asssignment_(9,_'KR1') = 0.0\n",
      "Asssignment_(9,_'KS') = 0.0\n",
      "Asssignment_(9,_'MA') = 0.0\n",
      "Asssignment_(9,_'MW') = 1.0\n",
      "Courses: Total Sum of Assignments =  60.0 \n",
      "\n"
     ]
    }
   ],
   "source": [
    "_, LocationOutput = run_location_optimization(locationPrefs, locationHotels)"
   ]
  },
  {
   "cell_type": "markdown",
   "metadata": {},
   "source": [
    "#Report Generation"
   ]
  },
  {
   "cell_type": "code",
   "execution_count": 22,
   "metadata": {
    "collapsed": false
   },
   "outputs": [],
   "source": [
    "amAssignments = pd.Series()\n",
    "pmAssignments = pd.Series()\n",
    "\n",
    "for v in amOutput:\n",
    "    s = v.name.split(\"\\'\")\n",
    "    if v.varValue == 1:\n",
    "        amAssignments.set_value(s[1], s[3])\n",
    "\n",
    "for v in pmOutput:\n",
    "    s = v.name.split(\"\\'\")\n",
    "    if v.varValue == 1:\n",
    "        pmAssignments.set_value(s[1], s[3])\n",
    "        \n",
    "Assignments = pd.DataFrame({'AM Course':amAssignments, 'PM Course':pmAssignments})"
   ]
  },
  {
   "cell_type": "code",
   "execution_count": 23,
   "metadata": {
    "collapsed": false
   },
   "outputs": [],
   "source": [
    "Cohorts = dict_to_df_values(df_to_dict_values(Assignments))"
   ]
  },
  {
   "cell_type": "code",
   "execution_count": 24,
   "metadata": {
    "collapsed": false
   },
   "outputs": [],
   "source": [
    "notAssigned = pd.Series()\n",
    "\n",
    "for v in amOutput:\n",
    "    s = v.name.split(\"\\'\")\n",
    "    if v.varValue == 0 and amPrefs[s[3]][s[1]] < amPrefs[Assignments['AM Course'][s[1]]][s[1]]:\n",
    "        if s[1] in notAssigned.index:\n",
    "            notAssigned[s[1]].append(s[3])\n",
    "        else:\n",
    "            notAssigned.set_value(s[1], [s[3]])\n",
    "\n",
    "for v in pmOutput:\n",
    "    s = v.name.split(\"\\'\")\n",
    "    if v.varValue == 0 and pmPrefs[s[3]][s[1]] < pmPrefs[Assignments['PM Course'][s[1]]][s[1]]:\n",
    "        if s[1] in notAssigned.index:\n",
    "            notAssigned[s[1]].append(s[3])\n",
    "        else:\n",
    "            notAssigned.set_value(s[1], [s[3]])"
   ]
  },
  {
   "cell_type": "code",
   "execution_count": 25,
   "metadata": {
    "collapsed": false
   },
   "outputs": [],
   "source": [
    "WaitLists = dict_to_df_values(series_to_dict_listvalues(notAssigned))"
   ]
  },
  {
   "cell_type": "code",
   "execution_count": 26,
   "metadata": {
    "collapsed": false
   },
   "outputs": [],
   "source": [
    "Capacities = pd.DataFrame(amCourses.append(pmCourses)['Capacity'])\n",
    "Capacities['Occupied Seats'] = pd.Series({k:len(v) for k,v in df_to_dict_values(Assignments).items()})\n",
    "Capacities['Remaining Seats'] = Capacities['Capacity'] - Capacities['Occupied Seats']"
   ]
  },
  {
   "cell_type": "markdown",
   "metadata": {},
   "source": [
    "#Output"
   ]
  },
  {
   "cell_type": "code",
   "execution_count": 27,
   "metadata": {
    "collapsed": false
   },
   "outputs": [],
   "source": [
    "book = load_workbook('simple_sample.xlsx')\n",
    "writer = pd.ExcelWriter('simple_sample.xlsx', engine='openpyxl') \n",
    "writer.book = book\n",
    "writer.sheets = dict((ws.title, ws) for ws in book.worksheets)\n",
    "Assignments.to_excel(writer, sheet_name='Assignments')\n",
    "Cohorts.to_excel(writer, sheet_name='Cohorts', index=False)\n",
    "WaitLists.to_excel(writer, sheet_name='WaitLists',index=False)\n",
    "Capacities.to_excel(writer, sheet_name='Capacities')\n",
    "writer.save()"
   ]
  },
  {
   "cell_type": "code",
   "execution_count": null,
   "metadata": {
    "collapsed": true
   },
   "outputs": [],
   "source": []
  },
  {
   "cell_type": "code",
   "execution_count": null,
   "metadata": {
    "collapsed": true
   },
   "outputs": [],
   "source": []
  }
 ],
 "metadata": {
  "kernelspec": {
   "display_name": "Python 3",
   "language": "python",
   "name": "python3"
  },
  "language_info": {
   "codemirror_mode": {
    "name": "ipython",
    "version": 3
   },
   "file_extension": ".py",
   "mimetype": "text/x-python",
   "name": "python",
   "nbconvert_exporter": "python",
   "pygments_lexer": "ipython3",
   "version": "3.4.3"
  }
 },
 "nbformat": 4,
 "nbformat_minor": 0
}
